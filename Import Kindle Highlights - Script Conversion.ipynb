{
 "cells": [
  {
   "cell_type": "code",
   "execution_count": 1,
   "metadata": {},
   "outputs": [],
   "source": [
    "import pandas as pd\n",
    "\n",
    "# store formatted kindle notes in this directory\n",
    "KINDLE_FORMATTED_NOTES_DIRECTORY = \"data/kindle/\""
   ]
  },
  {
   "cell_type": "code",
   "execution_count": 2,
   "metadata": {},
   "outputs": [],
   "source": [
    "def extract_title_author(raw_notes_path):\n",
    "    \"\"\"\n",
    "    Extract title and author from header of raw kindle notes csv file.\n",
    "    \"\"\"\n",
    "    with open(raw_notes_path) as file:\n",
    "        lines = file.readlines()\n",
    "        # skip \",,,\"\n",
    "        title = lines[1].strip()[:-3].title()\n",
    "        # also skip \"by \"\n",
    "        author = lines[2].strip()[3:-3].title()\n",
    "        return title, author"
   ]
  },
  {
   "cell_type": "code",
   "execution_count": 3,
   "metadata": {},
   "outputs": [],
   "source": [
    "def create_kindle_notes_filename(title):\n",
    "    \"\"\"\n",
    "    Return filename as title of book with \"_\" as spaces followed by \"_notes.csv\".\n",
    "    \n",
    "    Example:\n",
    "    \"ego_is_the_enemy_notes.csv\"\n",
    "    \n",
    "    \"\"\"\n",
    "    return ('_').join(title.lower().split()) + \"_notes.csv\""
   ]
  },
  {
   "cell_type": "code",
   "execution_count": 4,
   "metadata": {},
   "outputs": [],
   "source": [
    "def format_kindle_notes_to_csv(raw_notes_path, formatted_notes_directory):\n",
    "    \"\"\"\n",
    "    Format kindle notes and export to csv file with each row containing data for:\n",
    "    \n",
    "        - Annotation Type\n",
    "        - Location\n",
    "        - Starred?\n",
    "        - Annotation\n",
    "        - Author\n",
    "        - Title\n",
    "\n",
    "    \"\"\"\n",
    "    title, author = extract_title_author(raw_notes_path)\n",
    "\n",
    "    # import notes to df without header\n",
    "    notes_df = pd.read_csv(raw_notes_path, header=7)\n",
    "    \n",
    "    # add columns for title and author\n",
    "    notes_df[\"Author\"] = author\n",
    "    notes_df[\"Title\"] = title\n",
    "    \n",
    "    formatted_notes_path = formatted_notes_directory + create_kindle_notes_filename(title)\n",
    "    notes_df.to_csv(formatted_notes_path, index=False)"
   ]
  },
  {
   "cell_type": "code",
   "execution_count": 5,
   "metadata": {},
   "outputs": [],
   "source": [
    "format_kindle_notes_to_csv(\"Ego Is the Enemy-Notebook - Ego Is the Enemy-Notebook.csv\", KINDLE_FORMATTED_NOTES_DIRECTORY)"
   ]
  },
  {
   "cell_type": "code",
   "execution_count": 6,
   "metadata": {},
   "outputs": [
    {
     "data": {
      "text/html": [
       "<div>\n",
       "<style scoped>\n",
       "    .dataframe tbody tr th:only-of-type {\n",
       "        vertical-align: middle;\n",
       "    }\n",
       "\n",
       "    .dataframe tbody tr th {\n",
       "        vertical-align: top;\n",
       "    }\n",
       "\n",
       "    .dataframe thead th {\n",
       "        text-align: right;\n",
       "    }\n",
       "</style>\n",
       "<table border=\"1\" class=\"dataframe\">\n",
       "  <thead>\n",
       "    <tr style=\"text-align: right;\">\n",
       "      <th></th>\n",
       "      <th>Annotation Type</th>\n",
       "      <th>Location</th>\n",
       "      <th>Starred?</th>\n",
       "      <th>Annotation</th>\n",
       "      <th>Author</th>\n",
       "      <th>Title</th>\n",
       "    </tr>\n",
       "  </thead>\n",
       "  <tbody>\n",
       "    <tr>\n",
       "      <th>31</th>\n",
       "      <td>Highlight (Yellow)</td>\n",
       "      <td>Location 604</td>\n",
       "      <td>NaN</td>\n",
       "      <td>There is a sort of ego ceiling imposed—one kno...</td>\n",
       "      <td>Ryan Holiday</td>\n",
       "      <td>Ego Is The Enemy</td>\n",
       "    </tr>\n",
       "    <tr>\n",
       "      <th>15</th>\n",
       "      <td>Highlight (Yellow)</td>\n",
       "      <td>Location 428</td>\n",
       "      <td>NaN</td>\n",
       "      <td>It’s clear what happened: his talk got out ahe...</td>\n",
       "      <td>Ryan Holiday</td>\n",
       "      <td>Ego Is The Enemy</td>\n",
       "    </tr>\n",
       "    <tr>\n",
       "      <th>79</th>\n",
       "      <td>Highlight (Yellow)</td>\n",
       "      <td>Location 1625</td>\n",
       "      <td>NaN</td>\n",
       "      <td>As you become successful in your own field, yo...</td>\n",
       "      <td>Ryan Holiday</td>\n",
       "      <td>Ego Is The Enemy</td>\n",
       "    </tr>\n",
       "    <tr>\n",
       "      <th>50</th>\n",
       "      <td>Highlight (Yellow)</td>\n",
       "      <td>Location 1022</td>\n",
       "      <td>NaN</td>\n",
       "      <td>Pride blunts the very instrument we need to ow...</td>\n",
       "      <td>Ryan Holiday</td>\n",
       "      <td>Ego Is The Enemy</td>\n",
       "    </tr>\n",
       "    <tr>\n",
       "      <th>67</th>\n",
       "      <td>Highlight (Yellow)</td>\n",
       "      <td>Location 1312</td>\n",
       "      <td>NaN</td>\n",
       "      <td>It takes a special kind of humility to grasp t...</td>\n",
       "      <td>Ryan Holiday</td>\n",
       "      <td>Ego Is The Enemy</td>\n",
       "    </tr>\n",
       "  </tbody>\n",
       "</table>\n",
       "</div>"
      ],
      "text/plain": [
       "       Annotation Type       Location  Starred?  \\\n",
       "31  Highlight (Yellow)   Location 604       NaN   \n",
       "15  Highlight (Yellow)   Location 428       NaN   \n",
       "79  Highlight (Yellow)  Location 1625       NaN   \n",
       "50  Highlight (Yellow)  Location 1022       NaN   \n",
       "67  Highlight (Yellow)  Location 1312       NaN   \n",
       "\n",
       "                                           Annotation        Author  \\\n",
       "31  There is a sort of ego ceiling imposed—one kno...  Ryan Holiday   \n",
       "15  It’s clear what happened: his talk got out ahe...  Ryan Holiday   \n",
       "79  As you become successful in your own field, yo...  Ryan Holiday   \n",
       "50  Pride blunts the very instrument we need to ow...  Ryan Holiday   \n",
       "67  It takes a special kind of humility to grasp t...  Ryan Holiday   \n",
       "\n",
       "               Title  \n",
       "31  Ego Is The Enemy  \n",
       "15  Ego Is The Enemy  \n",
       "79  Ego Is The Enemy  \n",
       "50  Ego Is The Enemy  \n",
       "67  Ego Is The Enemy  "
      ]
     },
     "execution_count": 6,
     "metadata": {},
     "output_type": "execute_result"
    }
   ],
   "source": [
    "# # check results...\n",
    "# pd.read_csv(\"data/kindle/ego_is_the_enemy_notes.csv\").sample(5)"
   ]
  },
  {
   "cell_type": "code",
   "execution_count": null,
   "metadata": {},
   "outputs": [],
   "source": []
  }
 ],
 "metadata": {
  "kernelspec": {
   "display_name": "Python 3",
   "language": "python",
   "name": "python3"
  },
  "language_info": {
   "codemirror_mode": {
    "name": "ipython",
    "version": 3
   },
   "file_extension": ".py",
   "mimetype": "text/x-python",
   "name": "python",
   "nbconvert_exporter": "python",
   "pygments_lexer": "ipython3",
   "version": "3.7.5"
  }
 },
 "nbformat": 4,
 "nbformat_minor": 2
}
