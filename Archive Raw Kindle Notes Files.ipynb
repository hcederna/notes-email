{
 "cells": [
  {
   "cell_type": "code",
   "execution_count": 1,
   "metadata": {},
   "outputs": [],
   "source": [
    "import os\n",
    "import glob\n",
    "\n",
    "\n",
    "# store raw kindle notes in this directory\n",
    "KINDLE_RAW_NOTES_DIRECTORY = \"data/kindle/raw\"\n",
    "\n",
    "# store raw kindle notes in this directory after creating formatted csv files\n",
    "KINDLE_RAW_NOTES_ARCHIVE_DIRECTORY = \"data/kindle/raw/archive\""
   ]
  },
  {
   "cell_type": "code",
   "execution_count": 2,
   "metadata": {},
   "outputs": [
    {
     "data": {
      "text/plain": [
       "['data/kindle/raw/Ego Is the Enemy-Notebook - Ego Is the Enemy-Notebook.csv',\n",
       " \"data/kindle/raw/Can't Hurt Me_ Master Your Mind and Defy the Odds-Notebook.csv\",\n",
       " 'data/kindle/raw/The Inevitable_ Understanding the 12 Technological Forces That Will Shape Our Future-Notebook.csv']"
      ]
     },
     "execution_count": 2,
     "metadata": {},
     "output_type": "execute_result"
    }
   ],
   "source": [
    "# grab list of raw kindle notes files\n",
    "raw_notes_paths = glob.glob(KINDLE_RAW_NOTES_DIRECTORY+'/*.csv')\n",
    "raw_notes_paths"
   ]
  },
  {
   "cell_type": "code",
   "execution_count": 3,
   "metadata": {},
   "outputs": [],
   "source": [
    "def archive_raw_kindle_notes(raw_notes_path, kindle_raw_notes_archive_directory):\n",
    "    \"\"\" \n",
    "    Move raw kindle notes from raw directory to raw/archive directory.\n",
    "    \"\"\"\n",
    "    raw_notes_archive_path = raw_notes_path.replace(os.path.dirname(raw_notes_path), kindle_raw_notes_archive_directory)\n",
    "    os.rename(raw_notes_path, raw_notes_archive_path)"
   ]
  },
  {
   "cell_type": "code",
   "execution_count": 4,
   "metadata": {},
   "outputs": [],
   "source": [
    "for raw_notes_path in raw_notes_paths:\n",
    "    archive_raw_kindle_notes(raw_notes_path, KINDLE_RAW_NOTES_ARCHIVE_DIRECTORY)"
   ]
  },
  {
   "cell_type": "code",
   "execution_count": null,
   "metadata": {},
   "outputs": [],
   "source": []
  }
 ],
 "metadata": {
  "kernelspec": {
   "display_name": "Python 3",
   "language": "python",
   "name": "python3"
  },
  "language_info": {
   "codemirror_mode": {
    "name": "ipython",
    "version": 3
   },
   "file_extension": ".py",
   "mimetype": "text/x-python",
   "name": "python",
   "nbconvert_exporter": "python",
   "pygments_lexer": "ipython3",
   "version": "3.7.5"
  }
 },
 "nbformat": 4,
 "nbformat_minor": 2
}
