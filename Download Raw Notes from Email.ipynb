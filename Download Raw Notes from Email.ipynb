{
 "cells": [
  {
   "cell_type": "code",
   "execution_count": 10,
   "metadata": {},
   "outputs": [
    {
     "name": "stdout",
     "output_type": "stream",
     "text": [
      "Searching inbox for unread emails with kindle notes csv files to download...\n",
      "\n",
      "Downloading Never Split the Difference_ Negotiating As If Your Life\n",
      " Depended On It-Notebook.csv...\n",
      "Downloading Extreme Ownership_ How U_S_ Navy SEALs Lead and\n",
      " Win-Notebook.csv...\n",
      "Downloading Discipline Equals Freedom_ Field Manual-Notebook.csv...\n",
      "\n",
      "Process complete.\n"
     ]
    }
   ],
   "source": [
    "import imaplib\n",
    "import email \n",
    "\n",
    "from src.config import gmail_user_2, gmail_password_2\n",
    "from src.config import KINDLE_RAW_NOTES_DIRECTORY\n",
    "\n",
    "\n",
    "c = imaplib.IMAP4_SSL(\"imap.gmail.com\")\n",
    "c.login(gmail_user_2, gmail_password_2)\n",
    "c.select(readonly=False)\n",
    "\n",
    "print(\"Searching inbox for unread emails with kindle notes to download...\\n\")\n",
    "\n",
    "res, msg_ids = c.search(None, '(Unseen SUBJECT \"Kindle Notes\")')\n",
    "\n",
    "for msg_id in msg_ids[0].split():\n",
    "    res, data = c.fetch(msg_id, \"(BODY.PEEK[])\")\n",
    "    body = data[0][1]\n",
    "    msg = email.message_from_bytes(body)\n",
    "    \n",
    "    for part in msg.walk():\n",
    "        \n",
    "        if part.get_content_maintype() == 'multipart':\n",
    "            continue\n",
    "        if part.get('Content-Disposition') is None:\n",
    "            continue\n",
    "\n",
    "        filename = part.get_filename()\n",
    "        if \".csv\" in filename:\n",
    "            \n",
    "            print(f\"Downloading {filename}...\")\n",
    "            \n",
    "            fp = open(KINDLE_RAW_NOTES_DIRECTORY + '/' + part.get_filename(), 'wb')\n",
    "            fp.write(part.get_payload(decode=True))\n",
    "            fp.close()\n",
    "            \n",
    "print(\"\\nProcess complete.\")"
   ]
  },
  {
   "cell_type": "code",
   "execution_count": null,
   "metadata": {},
   "outputs": [],
   "source": []
  }
 ],
 "metadata": {
  "kernelspec": {
   "display_name": "Python 3",
   "language": "python",
   "name": "python3"
  },
  "language_info": {
   "codemirror_mode": {
    "name": "ipython",
    "version": 3
   },
   "file_extension": ".py",
   "mimetype": "text/x-python",
   "name": "python",
   "nbconvert_exporter": "python",
   "pygments_lexer": "ipython3",
   "version": "3.7.3"
  }
 },
 "nbformat": 4,
 "nbformat_minor": 2
}
