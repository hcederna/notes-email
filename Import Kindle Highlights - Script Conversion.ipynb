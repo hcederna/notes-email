{
 "cells": [
  {
   "cell_type": "code",
   "execution_count": 1,
   "metadata": {
    "scrolled": true
   },
   "outputs": [
    {
     "name": "stdout",
     "output_type": "stream",
     "text": [
      "Your Kindle Notes For:,,,\r",
      "\r\n",
      "EGO IS THE ENEMY,,,\r",
      "\r\n",
      "by Ryan Holiday,,,\r",
      "\r\n",
      "Free Kindle instant preview:,,,\r",
      "\r\n",
      "http://a.co/ddYV2tx,,,\r",
      "\r\n",
      "----------------------------------------------,,,\r",
      "\r\n",
      ",,,\r",
      "\r\n",
      "Annotation Type,Location,Starred?,Annotation\r",
      "\r\n",
      "Highlight (Yellow),Location 210,,The ego we see most commonly goes by a more casual definition: an unhealthy belief in our own importance. Arrogance. Self-centered ambition.\r",
      "\r\n",
      "Highlight (Yellow),Location 237,,\"The performance artist Marina Abramović puts it directly: “If you start believing in your greatness, it is the death of your creativity.”\"\r",
      "\r\n"
     ]
    }
   ],
   "source": [
    "# !head \"Ego Is the Enemy-Notebook - Ego Is the Enemy-Notebook.csv\""
   ]
  },
  {
   "cell_type": "code",
   "execution_count": 1,
   "metadata": {},
   "outputs": [],
   "source": [
    "import pandas as pd"
   ]
  },
  {
   "cell_type": "code",
   "execution_count": 2,
   "metadata": {},
   "outputs": [
    {
     "data": {
      "text/html": [
       "<div>\n",
       "<style scoped>\n",
       "    .dataframe tbody tr th:only-of-type {\n",
       "        vertical-align: middle;\n",
       "    }\n",
       "\n",
       "    .dataframe tbody tr th {\n",
       "        vertical-align: top;\n",
       "    }\n",
       "\n",
       "    .dataframe thead th {\n",
       "        text-align: right;\n",
       "    }\n",
       "</style>\n",
       "<table border=\"1\" class=\"dataframe\">\n",
       "  <thead>\n",
       "    <tr style=\"text-align: right;\">\n",
       "      <th></th>\n",
       "      <th>Your Kindle Notes For:</th>\n",
       "      <th>Unnamed: 1</th>\n",
       "      <th>Unnamed: 2</th>\n",
       "      <th>Unnamed: 3</th>\n",
       "    </tr>\n",
       "  </thead>\n",
       "  <tbody>\n",
       "    <tr>\n",
       "      <th>0</th>\n",
       "      <td>EGO IS THE ENEMY</td>\n",
       "      <td>NaN</td>\n",
       "      <td>NaN</td>\n",
       "      <td>NaN</td>\n",
       "    </tr>\n",
       "    <tr>\n",
       "      <th>1</th>\n",
       "      <td>by Ryan Holiday</td>\n",
       "      <td>NaN</td>\n",
       "      <td>NaN</td>\n",
       "      <td>NaN</td>\n",
       "    </tr>\n",
       "    <tr>\n",
       "      <th>2</th>\n",
       "      <td>Free Kindle instant preview:</td>\n",
       "      <td>NaN</td>\n",
       "      <td>NaN</td>\n",
       "      <td>NaN</td>\n",
       "    </tr>\n",
       "    <tr>\n",
       "      <th>3</th>\n",
       "      <td>http://a.co/ddYV2tx</td>\n",
       "      <td>NaN</td>\n",
       "      <td>NaN</td>\n",
       "      <td>NaN</td>\n",
       "    </tr>\n",
       "    <tr>\n",
       "      <th>4</th>\n",
       "      <td>----------------------------------------------</td>\n",
       "      <td>NaN</td>\n",
       "      <td>NaN</td>\n",
       "      <td>NaN</td>\n",
       "    </tr>\n",
       "    <tr>\n",
       "      <th>5</th>\n",
       "      <td>NaN</td>\n",
       "      <td>NaN</td>\n",
       "      <td>NaN</td>\n",
       "      <td>NaN</td>\n",
       "    </tr>\n",
       "    <tr>\n",
       "      <th>6</th>\n",
       "      <td>Annotation Type</td>\n",
       "      <td>Location</td>\n",
       "      <td>Starred?</td>\n",
       "      <td>Annotation</td>\n",
       "    </tr>\n",
       "    <tr>\n",
       "      <th>7</th>\n",
       "      <td>Highlight (Yellow)</td>\n",
       "      <td>Location 210</td>\n",
       "      <td>NaN</td>\n",
       "      <td>The ego we see most commonly goes by a more ca...</td>\n",
       "    </tr>\n",
       "    <tr>\n",
       "      <th>8</th>\n",
       "      <td>Highlight (Yellow)</td>\n",
       "      <td>Location 237</td>\n",
       "      <td>NaN</td>\n",
       "      <td>The performance artist Marina Abramović puts i...</td>\n",
       "    </tr>\n",
       "    <tr>\n",
       "      <th>9</th>\n",
       "      <td>Highlight (Yellow)</td>\n",
       "      <td>Location 239</td>\n",
       "      <td>NaN</td>\n",
       "      <td>Pursuing great work—whether it is in sports or...</td>\n",
       "    </tr>\n",
       "  </tbody>\n",
       "</table>\n",
       "</div>"
      ],
      "text/plain": [
       "                           Your Kindle Notes For:    Unnamed: 1 Unnamed: 2  \\\n",
       "0                                EGO IS THE ENEMY           NaN        NaN   \n",
       "1                                 by Ryan Holiday           NaN        NaN   \n",
       "2                    Free Kindle instant preview:           NaN        NaN   \n",
       "3                             http://a.co/ddYV2tx           NaN        NaN   \n",
       "4  ----------------------------------------------           NaN        NaN   \n",
       "5                                             NaN           NaN        NaN   \n",
       "6                                 Annotation Type      Location   Starred?   \n",
       "7                              Highlight (Yellow)  Location 210        NaN   \n",
       "8                              Highlight (Yellow)  Location 237        NaN   \n",
       "9                              Highlight (Yellow)  Location 239        NaN   \n",
       "\n",
       "                                          Unnamed: 3  \n",
       "0                                                NaN  \n",
       "1                                                NaN  \n",
       "2                                                NaN  \n",
       "3                                                NaN  \n",
       "4                                                NaN  \n",
       "5                                                NaN  \n",
       "6                                         Annotation  \n",
       "7  The ego we see most commonly goes by a more ca...  \n",
       "8  The performance artist Marina Abramović puts i...  \n",
       "9  Pursuing great work—whether it is in sports or...  "
      ]
     },
     "execution_count": 2,
     "metadata": {},
     "output_type": "execute_result"
    }
   ],
   "source": [
    "# data = pd.read_csv(\"Ego Is the Enemy-Notebook - Ego Is the Enemy-Notebook.csv\")\n",
    "# data.head(10)"
   ]
  },
  {
   "cell_type": "code",
   "execution_count": null,
   "metadata": {},
   "outputs": [],
   "source": [
    "# NOTE: \n",
    "    # path = directory + filename\n",
    "    # file = directory + filename\n",
    "    # directory = folder structure from base folder\n",
    "    # filename = filename within directory\n",
    "    \n",
    "#### NEED TO SORT OUT SYNTAX...WHAT AM I CALLING WHAT?"
   ]
  },
  {
   "cell_type": "code",
   "execution_count": 2,
   "metadata": {},
   "outputs": [],
   "source": [
    "def extract_title_author(raw_notes_path):\n",
    "    \"\"\"\n",
    "    Extract title and author from header of raw kindle notes csv file.\n",
    "    \"\"\"\n",
    "    with open(raw_notes_path) as file:\n",
    "        lines = file.readlines()\n",
    "        # skip \",,,\"\n",
    "        title = lines[1].strip()[:-3].title()\n",
    "        # also skip \"by \"\n",
    "        author = lines[2].strip()[3:-3].title()\n",
    "        return title, author"
   ]
  },
  {
   "cell_type": "code",
   "execution_count": 4,
   "metadata": {},
   "outputs": [
    {
     "name": "stdout",
     "output_type": "stream",
     "text": [
      "title = Ego Is The Enemy\n",
      "author = Ryan Holiday\n"
     ]
    }
   ],
   "source": [
    "# title, author = extract_title_author(\"Ego Is the Enemy-Notebook - Ego Is the Enemy-Notebook.csv\")\n",
    "\n",
    "# print(f\"title = {title}\")\n",
    "# print(f\"author = {author}\")"
   ]
  },
  {
   "cell_type": "code",
   "execution_count": 5,
   "metadata": {},
   "outputs": [
    {
     "name": "stdout",
     "output_type": "stream",
     "text": [
      "title = Ego Is The Enemy\n",
      "author = Ryan Holiday\n"
     ]
    }
   ],
   "source": [
    "# # extract title and author from header of csv file\n",
    "# with open(\"Ego Is the Enemy-Notebook - Ego Is the Enemy-Notebook.csv\") as file:\n",
    "#     lines = file.readlines()\n",
    "#     # skip \",,,\"\n",
    "#     title = lines[1].strip()[:-3].title()\n",
    "#     # also skip \"by \"\n",
    "#     author = lines[2].strip()[3:-3].title()\n",
    "\n",
    "# print(f\"title = {title}\")\n",
    "# print(f\"author = {author}\")"
   ]
  },
  {
   "cell_type": "code",
   "execution_count": 5,
   "metadata": {},
   "outputs": [
    {
     "data": {
      "text/html": [
       "<div>\n",
       "<style scoped>\n",
       "    .dataframe tbody tr th:only-of-type {\n",
       "        vertical-align: middle;\n",
       "    }\n",
       "\n",
       "    .dataframe tbody tr th {\n",
       "        vertical-align: top;\n",
       "    }\n",
       "\n",
       "    .dataframe thead th {\n",
       "        text-align: right;\n",
       "    }\n",
       "</style>\n",
       "<table border=\"1\" class=\"dataframe\">\n",
       "  <thead>\n",
       "    <tr style=\"text-align: right;\">\n",
       "      <th></th>\n",
       "      <th>Annotation Type</th>\n",
       "      <th>Location</th>\n",
       "      <th>Starred?</th>\n",
       "      <th>Annotation</th>\n",
       "    </tr>\n",
       "  </thead>\n",
       "  <tbody>\n",
       "    <tr>\n",
       "      <th>0</th>\n",
       "      <td>Highlight (Yellow)</td>\n",
       "      <td>Location 210</td>\n",
       "      <td>NaN</td>\n",
       "      <td>The ego we see most commonly goes by a more ca...</td>\n",
       "    </tr>\n",
       "    <tr>\n",
       "      <th>1</th>\n",
       "      <td>Highlight (Yellow)</td>\n",
       "      <td>Location 237</td>\n",
       "      <td>NaN</td>\n",
       "      <td>The performance artist Marina Abramović puts i...</td>\n",
       "    </tr>\n",
       "    <tr>\n",
       "      <th>2</th>\n",
       "      <td>Highlight (Yellow)</td>\n",
       "      <td>Location 239</td>\n",
       "      <td>NaN</td>\n",
       "      <td>Pursuing great work—whether it is in sports or...</td>\n",
       "    </tr>\n",
       "    <tr>\n",
       "      <th>3</th>\n",
       "      <td>Highlight (Yellow)</td>\n",
       "      <td>Location 292</td>\n",
       "      <td>NaN</td>\n",
       "      <td>Ego is stolen. Confidence is earned. Ego is se...</td>\n",
       "    </tr>\n",
       "    <tr>\n",
       "      <th>4</th>\n",
       "      <td>Highlight (Yellow)</td>\n",
       "      <td>Location 325</td>\n",
       "      <td>NaN</td>\n",
       "      <td>“abhor flatterers as you would deceivers; for ...</td>\n",
       "    </tr>\n",
       "    <tr>\n",
       "      <th>5</th>\n",
       "      <td>Highlight (Yellow)</td>\n",
       "      <td>Location 364</td>\n",
       "      <td>NaN</td>\n",
       "      <td>Where Sherman had once been cautious, he was n...</td>\n",
       "    </tr>\n",
       "    <tr>\n",
       "      <th>6</th>\n",
       "      <td>Highlight (Yellow)</td>\n",
       "      <td>Location 379</td>\n",
       "      <td>NaN</td>\n",
       "      <td>if your belief in yourself is not dependent on...</td>\n",
       "    </tr>\n",
       "    <tr>\n",
       "      <th>7</th>\n",
       "      <td>Highlight (Yellow)</td>\n",
       "      <td>Location 392</td>\n",
       "      <td>NaN</td>\n",
       "      <td>What we see in Sherman was a man deeply tied a...</td>\n",
       "    </tr>\n",
       "    <tr>\n",
       "      <th>8</th>\n",
       "      <td>Highlight (Yellow)</td>\n",
       "      <td>Location 397</td>\n",
       "      <td>NaN</td>\n",
       "      <td>One might say that the ability to evaluate one...</td>\n",
       "    </tr>\n",
       "    <tr>\n",
       "      <th>9</th>\n",
       "      <td>Highlight (Yellow)</td>\n",
       "      <td>Location 397</td>\n",
       "      <td>NaN</td>\n",
       "      <td>Without it, improvement is impossible.</td>\n",
       "    </tr>\n",
       "  </tbody>\n",
       "</table>\n",
       "</div>"
      ],
      "text/plain": [
       "      Annotation Type      Location  Starred?  \\\n",
       "0  Highlight (Yellow)  Location 210       NaN   \n",
       "1  Highlight (Yellow)  Location 237       NaN   \n",
       "2  Highlight (Yellow)  Location 239       NaN   \n",
       "3  Highlight (Yellow)  Location 292       NaN   \n",
       "4  Highlight (Yellow)  Location 325       NaN   \n",
       "5  Highlight (Yellow)  Location 364       NaN   \n",
       "6  Highlight (Yellow)  Location 379       NaN   \n",
       "7  Highlight (Yellow)  Location 392       NaN   \n",
       "8  Highlight (Yellow)  Location 397       NaN   \n",
       "9  Highlight (Yellow)  Location 397       NaN   \n",
       "\n",
       "                                          Annotation  \n",
       "0  The ego we see most commonly goes by a more ca...  \n",
       "1  The performance artist Marina Abramović puts i...  \n",
       "2  Pursuing great work—whether it is in sports or...  \n",
       "3  Ego is stolen. Confidence is earned. Ego is se...  \n",
       "4  “abhor flatterers as you would deceivers; for ...  \n",
       "5  Where Sherman had once been cautious, he was n...  \n",
       "6  if your belief in yourself is not dependent on...  \n",
       "7  What we see in Sherman was a man deeply tied a...  \n",
       "8  One might say that the ability to evaluate one...  \n",
       "9             Without it, improvement is impossible.  "
      ]
     },
     "execution_count": 5,
     "metadata": {},
     "output_type": "execute_result"
    }
   ],
   "source": [
    "# # import notes to df without header\n",
    "# data = pd.read_csv(\"Ego Is the Enemy-Notebook - Ego Is the Enemy-Notebook.csv\", header=7)\n",
    "# data.head(10)"
   ]
  },
  {
   "cell_type": "code",
   "execution_count": 6,
   "metadata": {},
   "outputs": [
    {
     "data": {
      "text/html": [
       "<div>\n",
       "<style scoped>\n",
       "    .dataframe tbody tr th:only-of-type {\n",
       "        vertical-align: middle;\n",
       "    }\n",
       "\n",
       "    .dataframe tbody tr th {\n",
       "        vertical-align: top;\n",
       "    }\n",
       "\n",
       "    .dataframe thead th {\n",
       "        text-align: right;\n",
       "    }\n",
       "</style>\n",
       "<table border=\"1\" class=\"dataframe\">\n",
       "  <thead>\n",
       "    <tr style=\"text-align: right;\">\n",
       "      <th></th>\n",
       "      <th>Annotation Type</th>\n",
       "      <th>Location</th>\n",
       "      <th>Starred?</th>\n",
       "      <th>Annotation</th>\n",
       "      <th>Author</th>\n",
       "      <th>Title</th>\n",
       "    </tr>\n",
       "  </thead>\n",
       "  <tbody>\n",
       "    <tr>\n",
       "      <th>0</th>\n",
       "      <td>Highlight (Yellow)</td>\n",
       "      <td>Location 210</td>\n",
       "      <td>NaN</td>\n",
       "      <td>The ego we see most commonly goes by a more ca...</td>\n",
       "      <td>Ryan Holiday</td>\n",
       "      <td>Ego Is The Enemy</td>\n",
       "    </tr>\n",
       "    <tr>\n",
       "      <th>1</th>\n",
       "      <td>Highlight (Yellow)</td>\n",
       "      <td>Location 237</td>\n",
       "      <td>NaN</td>\n",
       "      <td>The performance artist Marina Abramović puts i...</td>\n",
       "      <td>Ryan Holiday</td>\n",
       "      <td>Ego Is The Enemy</td>\n",
       "    </tr>\n",
       "    <tr>\n",
       "      <th>2</th>\n",
       "      <td>Highlight (Yellow)</td>\n",
       "      <td>Location 239</td>\n",
       "      <td>NaN</td>\n",
       "      <td>Pursuing great work—whether it is in sports or...</td>\n",
       "      <td>Ryan Holiday</td>\n",
       "      <td>Ego Is The Enemy</td>\n",
       "    </tr>\n",
       "    <tr>\n",
       "      <th>3</th>\n",
       "      <td>Highlight (Yellow)</td>\n",
       "      <td>Location 292</td>\n",
       "      <td>NaN</td>\n",
       "      <td>Ego is stolen. Confidence is earned. Ego is se...</td>\n",
       "      <td>Ryan Holiday</td>\n",
       "      <td>Ego Is The Enemy</td>\n",
       "    </tr>\n",
       "    <tr>\n",
       "      <th>4</th>\n",
       "      <td>Highlight (Yellow)</td>\n",
       "      <td>Location 325</td>\n",
       "      <td>NaN</td>\n",
       "      <td>“abhor flatterers as you would deceivers; for ...</td>\n",
       "      <td>Ryan Holiday</td>\n",
       "      <td>Ego Is The Enemy</td>\n",
       "    </tr>\n",
       "  </tbody>\n",
       "</table>\n",
       "</div>"
      ],
      "text/plain": [
       "      Annotation Type      Location  Starred?  \\\n",
       "0  Highlight (Yellow)  Location 210       NaN   \n",
       "1  Highlight (Yellow)  Location 237       NaN   \n",
       "2  Highlight (Yellow)  Location 239       NaN   \n",
       "3  Highlight (Yellow)  Location 292       NaN   \n",
       "4  Highlight (Yellow)  Location 325       NaN   \n",
       "\n",
       "                                          Annotation        Author  \\\n",
       "0  The ego we see most commonly goes by a more ca...  Ryan Holiday   \n",
       "1  The performance artist Marina Abramović puts i...  Ryan Holiday   \n",
       "2  Pursuing great work—whether it is in sports or...  Ryan Holiday   \n",
       "3  Ego is stolen. Confidence is earned. Ego is se...  Ryan Holiday   \n",
       "4  “abhor flatterers as you would deceivers; for ...  Ryan Holiday   \n",
       "\n",
       "              Title  \n",
       "0  Ego Is The Enemy  \n",
       "1  Ego Is The Enemy  \n",
       "2  Ego Is The Enemy  \n",
       "3  Ego Is The Enemy  \n",
       "4  Ego Is The Enemy  "
      ]
     },
     "execution_count": 6,
     "metadata": {},
     "output_type": "execute_result"
    }
   ],
   "source": [
    "# # add columns for title and author\n",
    "# data[\"Author\"] = author\n",
    "# data[\"Title\"] = title\n",
    "# data.head()"
   ]
  },
  {
   "cell_type": "code",
   "execution_count": 3,
   "metadata": {},
   "outputs": [],
   "source": [
    "# store formatted kindle notes in this directory\n",
    "KINDLE_FORMATTED_NOTES_DIRECTORY = \"data/kindle/\""
   ]
  },
  {
   "cell_type": "code",
   "execution_count": 4,
   "metadata": {},
   "outputs": [],
   "source": [
    "def create_kindle_notes_filename(title):\n",
    "    \"\"\"\n",
    "    Return filename as title of book with \"_\" as spaces followed by \"_notes.csv\".\n",
    "    \n",
    "    Example:\n",
    "    \"ego_is_the_enemy_notes.csv\"\n",
    "    \n",
    "    \"\"\"\n",
    "    return ('_').join(title.lower().split()) + \"_notes.csv\""
   ]
  },
  {
   "cell_type": "code",
   "execution_count": 36,
   "metadata": {
    "scrolled": true
   },
   "outputs": [
    {
     "data": {
      "text/plain": [
       "'data/kindle/ego_is_the_enemy_notes.csv'"
      ]
     },
     "execution_count": 36,
     "metadata": {},
     "output_type": "execute_result"
    }
   ],
   "source": [
    "# formatted_notes_path = KINDLE_FORMATTED_NOTES_DIRECTORY + determine_kindle_notes_filename(title)\n",
    "# formatted_notes_path"
   ]
  },
  {
   "cell_type": "code",
   "execution_count": 25,
   "metadata": {},
   "outputs": [
    {
     "data": {
      "text/plain": [
       "'data/kindle/ego_is_the_enemy_notes.csv'"
      ]
     },
     "execution_count": 25,
     "metadata": {},
     "output_type": "execute_result"
    }
   ],
   "source": [
    "# # determine formatted kindle notes path\n",
    "# formatted_notes_path = KINDLE_FORMATTED_NOTES_DIRECTORY + ('_').join(title.lower().split()) + \"_notes.csv\"\n",
    "# formatted_notes_path"
   ]
  },
  {
   "cell_type": "code",
   "execution_count": 14,
   "metadata": {},
   "outputs": [],
   "source": [
    "# # export formatted notes to csv file\n",
    "# formatted_notes_path = KINDLE_FORMATTED_NOTES_DIRECTORY + create_kindle_notes_filename(notes_df[\"Title\"][0])\n",
    "# notes_df.to_csv(formatted_notes_path, index=False)"
   ]
  },
  {
   "cell_type": "code",
   "execution_count": 26,
   "metadata": {},
   "outputs": [],
   "source": [
    "# # write df to csv file\n",
    "# data.to_csv(formatted_notes_path, index=False)"
   ]
  },
  {
   "cell_type": "code",
   "execution_count": 5,
   "metadata": {},
   "outputs": [],
   "source": [
    "def format_kindle_notes_to_csv(raw_notes_path, formatted_notes_directory):\n",
    "    \"\"\"\n",
    "    Format kindle notes and export to csv file with each row containing data for:\n",
    "    \n",
    "        - Annotation Type\n",
    "        - Location\n",
    "        - Starred?\n",
    "        - Annotation\n",
    "        - Author\n",
    "        - Title\n",
    "\n",
    "    \"\"\"\n",
    "    title, author = extract_title_author(raw_notes_path)\n",
    "\n",
    "    # import notes to df without header\n",
    "    notes_df = pd.read_csv(raw_notes_path, header=7)\n",
    "    \n",
    "    # add columns for title and author\n",
    "    notes_df[\"Author\"] = author\n",
    "    notes_df[\"Title\"] = title\n",
    "    \n",
    "    formatted_notes_path = formatted_notes_directory + create_kindle_notes_filename(title)\n",
    "    notes_df.to_csv(formatted_notes_path, index=False)"
   ]
  },
  {
   "cell_type": "code",
   "execution_count": 6,
   "metadata": {},
   "outputs": [],
   "source": [
    "format_kindle_notes_to_csv(\"Ego Is the Enemy-Notebook - Ego Is the Enemy-Notebook.csv\", KINDLE_FORMATTED_NOTES_DIRECTORY)"
   ]
  },
  {
   "cell_type": "code",
   "execution_count": 12,
   "metadata": {},
   "outputs": [
    {
     "data": {
      "text/html": [
       "<div>\n",
       "<style scoped>\n",
       "    .dataframe tbody tr th:only-of-type {\n",
       "        vertical-align: middle;\n",
       "    }\n",
       "\n",
       "    .dataframe tbody tr th {\n",
       "        vertical-align: top;\n",
       "    }\n",
       "\n",
       "    .dataframe thead th {\n",
       "        text-align: right;\n",
       "    }\n",
       "</style>\n",
       "<table border=\"1\" class=\"dataframe\">\n",
       "  <thead>\n",
       "    <tr style=\"text-align: right;\">\n",
       "      <th></th>\n",
       "      <th>Annotation Type</th>\n",
       "      <th>Location</th>\n",
       "      <th>Starred?</th>\n",
       "      <th>Annotation</th>\n",
       "      <th>Author</th>\n",
       "      <th>Title</th>\n",
       "    </tr>\n",
       "  </thead>\n",
       "  <tbody>\n",
       "    <tr>\n",
       "      <th>87</th>\n",
       "      <td>Highlight (Yellow)</td>\n",
       "      <td>Location 1856</td>\n",
       "      <td>NaN</td>\n",
       "      <td>Most successful people are people you’ve never...</td>\n",
       "      <td>Ryan Holiday</td>\n",
       "      <td>Ego Is The Enemy</td>\n",
       "    </tr>\n",
       "    <tr>\n",
       "      <th>27</th>\n",
       "      <td>Highlight (Yellow)</td>\n",
       "      <td>Location 523</td>\n",
       "      <td>NaN</td>\n",
       "      <td>“To be or to do? Which way will you go?”</td>\n",
       "      <td>Ryan Holiday</td>\n",
       "      <td>Ego Is The Enemy</td>\n",
       "    </tr>\n",
       "    <tr>\n",
       "      <th>29</th>\n",
       "      <td>Highlight (Yellow)</td>\n",
       "      <td>Location 556</td>\n",
       "      <td>NaN</td>\n",
       "      <td>It’s about the doing, not the recognition.</td>\n",
       "      <td>Ryan Holiday</td>\n",
       "      <td>Ego Is The Enemy</td>\n",
       "    </tr>\n",
       "    <tr>\n",
       "      <th>84</th>\n",
       "      <td>Highlight (Yellow)</td>\n",
       "      <td>Location 1750</td>\n",
       "      <td>NaN</td>\n",
       "      <td>Why do you think that great leaders and thinke...</td>\n",
       "      <td>Ryan Holiday</td>\n",
       "      <td>Ego Is The Enemy</td>\n",
       "    </tr>\n",
       "    <tr>\n",
       "      <th>23</th>\n",
       "      <td>Highlight (Yellow)</td>\n",
       "      <td>Location 470</td>\n",
       "      <td>NaN</td>\n",
       "      <td>Success requires a full 100 percent of our eff...</td>\n",
       "      <td>Ryan Holiday</td>\n",
       "      <td>Ego Is The Enemy</td>\n",
       "    </tr>\n",
       "  </tbody>\n",
       "</table>\n",
       "</div>"
      ],
      "text/plain": [
       "       Annotation Type       Location  Starred?  \\\n",
       "87  Highlight (Yellow)  Location 1856       NaN   \n",
       "27  Highlight (Yellow)   Location 523       NaN   \n",
       "29  Highlight (Yellow)   Location 556       NaN   \n",
       "84  Highlight (Yellow)  Location 1750       NaN   \n",
       "23  Highlight (Yellow)   Location 470       NaN   \n",
       "\n",
       "                                           Annotation        Author  \\\n",
       "87  Most successful people are people you’ve never...  Ryan Holiday   \n",
       "27           “To be or to do? Which way will you go?”  Ryan Holiday   \n",
       "29         It’s about the doing, not the recognition.  Ryan Holiday   \n",
       "84  Why do you think that great leaders and thinke...  Ryan Holiday   \n",
       "23  Success requires a full 100 percent of our eff...  Ryan Holiday   \n",
       "\n",
       "               Title  \n",
       "87  Ego Is The Enemy  \n",
       "27  Ego Is The Enemy  \n",
       "29  Ego Is The Enemy  \n",
       "84  Ego Is The Enemy  \n",
       "23  Ego Is The Enemy  "
      ]
     },
     "execution_count": 12,
     "metadata": {},
     "output_type": "execute_result"
    }
   ],
   "source": [
    "# # check results...\n",
    "# pd.read_csv(\"data/kindle/ego_is_the_enemy_notes.csv\").sample(5)"
   ]
  },
  {
   "cell_type": "code",
   "execution_count": null,
   "metadata": {},
   "outputs": [],
   "source": []
  }
 ],
 "metadata": {
  "kernelspec": {
   "display_name": "Python 3",
   "language": "python",
   "name": "python3"
  },
  "language_info": {
   "codemirror_mode": {
    "name": "ipython",
    "version": 3
   },
   "file_extension": ".py",
   "mimetype": "text/x-python",
   "name": "python",
   "nbconvert_exporter": "python",
   "pygments_lexer": "ipython3",
   "version": "3.7.5"
  }
 },
 "nbformat": 4,
 "nbformat_minor": 2
}
