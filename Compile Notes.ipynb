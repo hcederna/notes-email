{
 "cells": [
  {
   "cell_type": "code",
   "execution_count": 1,
   "metadata": {
    "scrolled": true
   },
   "outputs": [
    {
     "name": "stdout",
     "output_type": "stream",
     "text": [
      "Your Kindle Notes For:,,,\r",
      "\r\n",
      "EGO IS THE ENEMY,,,\r",
      "\r\n",
      "by Ryan Holiday,,,\r",
      "\r\n",
      "Free Kindle instant preview:,,,\r",
      "\r\n",
      "http://a.co/ddYV2tx,,,\r",
      "\r\n",
      "----------------------------------------------,,,\r",
      "\r\n",
      ",,,\r",
      "\r\n",
      "Annotation Type,Location,Starred?,Annotation\r",
      "\r\n",
      "Highlight (Yellow),Location 210,,The ego we see most commonly goes by a more casual definition: an unhealthy belief in our own importance. Arrogance. Self-centered ambition.\r",
      "\r\n",
      "Highlight (Yellow),Location 237,,\"The performance artist Marina Abramović puts it directly: “If you start believing in your greatness, it is the death of your creativity.”\"\r",
      "\r\n"
     ]
    }
   ],
   "source": [
    "!head \"Ego Is the Enemy-Notebook - Ego Is the Enemy-Notebook.csv\""
   ]
  },
  {
   "cell_type": "code",
   "execution_count": 3,
   "metadata": {},
   "outputs": [
    {
     "data": {
      "text/html": [
       "<div>\n",
       "<style scoped>\n",
       "    .dataframe tbody tr th:only-of-type {\n",
       "        vertical-align: middle;\n",
       "    }\n",
       "\n",
       "    .dataframe tbody tr th {\n",
       "        vertical-align: top;\n",
       "    }\n",
       "\n",
       "    .dataframe thead th {\n",
       "        text-align: right;\n",
       "    }\n",
       "</style>\n",
       "<table border=\"1\" class=\"dataframe\">\n",
       "  <thead>\n",
       "    <tr style=\"text-align: right;\">\n",
       "      <th></th>\n",
       "      <th>Your Kindle Notes For:</th>\n",
       "      <th>Unnamed: 1</th>\n",
       "      <th>Unnamed: 2</th>\n",
       "      <th>Unnamed: 3</th>\n",
       "    </tr>\n",
       "  </thead>\n",
       "  <tbody>\n",
       "    <tr>\n",
       "      <th>0</th>\n",
       "      <td>EGO IS THE ENEMY</td>\n",
       "      <td>NaN</td>\n",
       "      <td>NaN</td>\n",
       "      <td>NaN</td>\n",
       "    </tr>\n",
       "    <tr>\n",
       "      <th>1</th>\n",
       "      <td>by Ryan Holiday</td>\n",
       "      <td>NaN</td>\n",
       "      <td>NaN</td>\n",
       "      <td>NaN</td>\n",
       "    </tr>\n",
       "    <tr>\n",
       "      <th>2</th>\n",
       "      <td>Free Kindle instant preview:</td>\n",
       "      <td>NaN</td>\n",
       "      <td>NaN</td>\n",
       "      <td>NaN</td>\n",
       "    </tr>\n",
       "    <tr>\n",
       "      <th>3</th>\n",
       "      <td>http://a.co/ddYV2tx</td>\n",
       "      <td>NaN</td>\n",
       "      <td>NaN</td>\n",
       "      <td>NaN</td>\n",
       "    </tr>\n",
       "    <tr>\n",
       "      <th>4</th>\n",
       "      <td>----------------------------------------------</td>\n",
       "      <td>NaN</td>\n",
       "      <td>NaN</td>\n",
       "      <td>NaN</td>\n",
       "    </tr>\n",
       "    <tr>\n",
       "      <th>5</th>\n",
       "      <td>NaN</td>\n",
       "      <td>NaN</td>\n",
       "      <td>NaN</td>\n",
       "      <td>NaN</td>\n",
       "    </tr>\n",
       "    <tr>\n",
       "      <th>6</th>\n",
       "      <td>Annotation Type</td>\n",
       "      <td>Location</td>\n",
       "      <td>Starred?</td>\n",
       "      <td>Annotation</td>\n",
       "    </tr>\n",
       "    <tr>\n",
       "      <th>7</th>\n",
       "      <td>Highlight (Yellow)</td>\n",
       "      <td>Location 210</td>\n",
       "      <td>NaN</td>\n",
       "      <td>The ego we see most commonly goes by a more ca...</td>\n",
       "    </tr>\n",
       "    <tr>\n",
       "      <th>8</th>\n",
       "      <td>Highlight (Yellow)</td>\n",
       "      <td>Location 237</td>\n",
       "      <td>NaN</td>\n",
       "      <td>The performance artist Marina Abramović puts i...</td>\n",
       "    </tr>\n",
       "    <tr>\n",
       "      <th>9</th>\n",
       "      <td>Highlight (Yellow)</td>\n",
       "      <td>Location 239</td>\n",
       "      <td>NaN</td>\n",
       "      <td>Pursuing great work—whether it is in sports or...</td>\n",
       "    </tr>\n",
       "  </tbody>\n",
       "</table>\n",
       "</div>"
      ],
      "text/plain": [
       "                           Your Kindle Notes For:    Unnamed: 1 Unnamed: 2  \\\n",
       "0                                EGO IS THE ENEMY           NaN        NaN   \n",
       "1                                 by Ryan Holiday           NaN        NaN   \n",
       "2                    Free Kindle instant preview:           NaN        NaN   \n",
       "3                             http://a.co/ddYV2tx           NaN        NaN   \n",
       "4  ----------------------------------------------           NaN        NaN   \n",
       "5                                             NaN           NaN        NaN   \n",
       "6                                 Annotation Type      Location   Starred?   \n",
       "7                              Highlight (Yellow)  Location 210        NaN   \n",
       "8                              Highlight (Yellow)  Location 237        NaN   \n",
       "9                              Highlight (Yellow)  Location 239        NaN   \n",
       "\n",
       "                                          Unnamed: 3  \n",
       "0                                                NaN  \n",
       "1                                                NaN  \n",
       "2                                                NaN  \n",
       "3                                                NaN  \n",
       "4                                                NaN  \n",
       "5                                                NaN  \n",
       "6                                         Annotation  \n",
       "7  The ego we see most commonly goes by a more ca...  \n",
       "8  The performance artist Marina Abramović puts i...  \n",
       "9  Pursuing great work—whether it is in sports or...  "
      ]
     },
     "execution_count": 3,
     "metadata": {},
     "output_type": "execute_result"
    }
   ],
   "source": [
    "import pandas as pd\n",
    "\n",
    "\n",
    "data = pd.read_csv(\"Ego Is the Enemy-Notebook - Ego Is the Enemy-Notebook.csv\")\n",
    "data.head(10)"
   ]
  },
  {
   "cell_type": "code",
   "execution_count": 5,
   "metadata": {},
   "outputs": [
    {
     "name": "stdout",
     "output_type": "stream",
     "text": [
      "title = Ego Is The Enemy\n",
      "author = Ryan Holiday\n"
     ]
    }
   ],
   "source": [
    "# extract title and author from header of csv file\n",
    "with open(\"Ego Is the Enemy-Notebook - Ego Is the Enemy-Notebook.csv\") as file:\n",
    "    lines = file.readlines()\n",
    "    # skip \",,,\"\n",
    "    title = lines[1].strip()[:-3].title()\n",
    "    # also skip \"by \"\n",
    "    author = lines[2].strip()[3:-3].title()\n",
    "\n",
    "print(f\"title = {title}\")\n",
    "print(f\"author = {author}\")"
   ]
  },
  {
   "cell_type": "code",
   "execution_count": null,
   "metadata": {},
   "outputs": [],
   "source": []
  }
 ],
 "metadata": {
  "kernelspec": {
   "display_name": "Python 3",
   "language": "python",
   "name": "python3"
  },
  "language_info": {
   "codemirror_mode": {
    "name": "ipython",
    "version": 3
   },
   "file_extension": ".py",
   "mimetype": "text/x-python",
   "name": "python",
   "nbconvert_exporter": "python",
   "pygments_lexer": "ipython3",
   "version": "3.7.5"
  }
 },
 "nbformat": 4,
 "nbformat_minor": 2
}
